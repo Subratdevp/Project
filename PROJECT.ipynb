{
 "cells": [
  {
   "cell_type": "markdown",
   "id": "668df6f2",
   "metadata": {},
   "source": []
  },
  {
   "cell_type": "code",
   "execution_count": 3,
   "id": "01d5e2d7-2c8b-4ec2-b9e7-63f3718cbc60",
   "metadata": {},
   "outputs": [],
   "source": [
    "# pip install moviepy speechrecognition pydub"
   ]
  },
  {
   "cell_type": "markdown",
   "id": "8213c4c2-3912-4c92-be36-d693eda91220",
   "metadata": {},
   "source": [
    "## Project modified code with canvas"
   ]
  },
  {
   "cell_type": "code",
   "execution_count": 1,
   "id": "e29d198a-95cc-4d7d-9472-2611cd5e3a5f",
   "metadata": {},
   "outputs": [],
   "source": [
    "# pip install pygame"
   ]
  },
  {
   "cell_type": "code",
   "execution_count": null,
   "id": "4f112619-3be0-4a27-9c6d-272e03bc80cc",
   "metadata": {},
   "outputs": [
    {
     "name": "stdout",
     "output_type": "stream",
     "text": [
      "MoviePy - Writing audio in C:/Users/Subrat Jena/Downloads/_Lungi Dance Chennai Express_ New Video Feat. Honey Singh, Shahrukh Khan, Deepika.wav\n"
     ]
    },
    {
     "name": "stderr",
     "output_type": "stream",
     "text": [
      "                                                                                                                       \r"
     ]
    },
    {
     "name": "stdout",
     "output_type": "stream",
     "text": [
      "MoviePy - Done.\n"
     ]
    }
   ],
   "source": [
    "import tkinter as tk\n",
    "from tkinter import filedialog\n",
    "from moviepy.editor import VideoFileClip\n",
    "import speech_recognition as sr\n",
    "from pydub import AudioSegment\n",
    "import os\n",
    "import pygame  # Import pygame for audio playback\n",
    "\n",
    "def select_video_file():\n",
    "    video_path = filedialog.askopenfilename(filetypes=[(\"Video files\", \"*.mp4;*.avi;*.mov;*.mkv\")])\n",
    "    video_path_entry.delete(0, tk.END)\n",
    "    video_path_entry.insert(0, video_path)\n",
    "\n",
    "def convert_video_to_audio():\n",
    "    video_path = video_path_entry.get()\n",
    "    if not video_path:\n",
    "        result_text.insert(tk.END, \"Please select a video file.\\n\")\n",
    "        return\n",
    "    \n",
    "    result_text.insert(tk.END, \"Converting video to audio...\\n\")\n",
    "    global audio_path  # Use global variable to store audio path for playback\n",
    "    audio_path = video_path.rsplit('.', 1)[0] + '.wav'\n",
    "    \n",
    "    try:\n",
    "        video = VideoFileClip(video_path)\n",
    "        video.audio.write_audiofile(audio_path)\n",
    "        result_text.insert(tk.END, f\"Audio saved to {audio_path}\\n\")\n",
    "        play_audio_button.config(state=tk.NORMAL)  # Enable play button after audio conversion\n",
    "        convert_audio_to_text(audio_path)\n",
    "    except Exception as e:\n",
    "        result_text.insert(tk.END, f\"Error converting video to audio: {e}\\n\")\n",
    "\n",
    "def convert_audio_to_text(audio_path):\n",
    "    recognizer = sr.Recognizer()\n",
    "    result_text.insert(tk.END, \"Converting audio to text...\\n\")\n",
    "\n",
    "    try:\n",
    "        audio = AudioSegment.from_wav(audio_path)\n",
    "        chunk_length_ms = 60000  # 1 minute\n",
    "        chunks = make_chunks(audio, chunk_length_ms)\n",
    "        \n",
    "        whole_text = \"\"\n",
    "        \n",
    "        for i, chunk in enumerate(chunks):\n",
    "            chunk_filename = f\"chunk{i}.wav\"\n",
    "            chunk.export(chunk_filename, format=\"wav\")\n",
    "            \n",
    "            with sr.AudioFile(chunk_filename) as source:\n",
    "                audio_data = recognizer.record(source)\n",
    "                try:\n",
    "                    text = recognizer.recognize_google(audio_data)\n",
    "                    result_text.insert(tk.END, f\"Chunk {i} recognized text: {text}\\n\")\n",
    "                    whole_text += text + \" \"\n",
    "                except sr.UnknownValueError:\n",
    "                    result_text.insert(tk.END, f\"Chunk {i} could not be understood.\\n\")\n",
    "                except sr.RequestError as e:\n",
    "                    result_text.insert(tk.END, f\"Chunk {i} request error: {e}\\n\")\n",
    "                \n",
    "            os.remove(chunk_filename)\n",
    "        \n",
    "        result_text.insert(tk.END, \"All chunks processed.\\n\")\n",
    "        result_text.insert(tk.END, f\"Whole recognized text: \\n{whole_text}\\n\")\n",
    "        \n",
    "    except Exception as e:\n",
    "        result_text.insert(tk.END, f\"Error converting audio to text: {e}\\n\")\n",
    "\n",
    "def make_chunks(audio_segment, chunk_length_ms):\n",
    "    chunks = []\n",
    "    for i in range(0, len(audio_segment), chunk_length_ms):\n",
    "        chunk = audio_segment[i:i + chunk_length_ms]\n",
    "        chunks.append(chunk)\n",
    "    return chunks\n",
    "\n",
    "def play_audio():\n",
    "    if audio_path:\n",
    "        pygame.mixer.init()\n",
    "        pygame.mixer.music.load(audio_path)\n",
    "        pygame.mixer.music.play()\n",
    "        result_text.insert(tk.END, f\"Playing audio from {audio_path}\\n\")\n",
    "\n",
    "app = tk.Tk()\n",
    "app.title(\"Video to Audio and Audio to Text Converter\")\n",
    "\n",
    "# Set the background color for the window and canvas\n",
    "app.configure(bg='#34495E')  # Dark Blue for the main window\n",
    "canvas = tk.Canvas(app, width=500, height=400, bg='#2C3E50')  # Slightly lighter blue for the canvas\n",
    "canvas.pack()\n",
    "\n",
    "# Create Entry, Buttons, and Text widgets with background colors\n",
    "video_path_entry = tk.Entry(app, width=50, bg='#ECF0F1', fg='#34495E')  # Light Gray for entry, Dark Blue text\n",
    "select_video_button = tk.Button(app, text=\"Select Video\", command=select_video_file, bg='#1ABC9C', fg='white')  # Teal for button, white text\n",
    "convert_button = tk.Button(app, text=\"Convert\", command=convert_video_to_audio, bg='#3498DB', fg='white')  # Blue for button, white text\n",
    "play_audio_button = tk.Button(app, text=\"Play Audio\", command=play_audio, state=tk.DISABLED, bg='#E74C3C', fg='white')  # Red for button, white text\n",
    "result_text = tk.Text(app, wrap='word', height=10, width=60, bg='#ECF0F1', fg='#34495E')  # Light Gray for text box, Dark Blue text\n",
    "\n",
    "# Place widgets on the canvas\n",
    "canvas.create_window(250, 30, window=video_path_entry)\n",
    "canvas.create_window(250, 70, window=select_video_button)\n",
    "canvas.create_window(250, 110, window=convert_button)\n",
    "canvas.create_window(250, 150, window=play_audio_button)\n",
    "canvas.create_window(250, 300, window=result_text)\n",
    "\n",
    "app.mainloop()\n"
   ]
  },
  {
   "cell_type": "code",
   "execution_count": null,
   "id": "e5962c04-b802-48a9-949e-fd90f1f2b6f1",
   "metadata": {},
   "outputs": [],
   "source": []
  }
 ],
 "metadata": {
  "kernelspec": {
   "display_name": "Python 3 (ipykernel)",
   "language": "python",
   "name": "python3"
  },
  "language_info": {
   "codemirror_mode": {
    "name": "ipython",
    "version": 3
   },
   "file_extension": ".py",
   "mimetype": "text/x-python",
   "name": "python",
   "nbconvert_exporter": "python",
   "pygments_lexer": "ipython3",
   "version": "3.11.7"
  }
 },
 "nbformat": 4,
 "nbformat_minor": 5
}
